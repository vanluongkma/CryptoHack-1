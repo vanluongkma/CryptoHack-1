{
 "cells": [
  {
   "cell_type": "markdown",
   "metadata": {},
   "source": [
    "#### Challenge"
   ]
  },
  {
   "cell_type": "code",
   "execution_count": null,
   "metadata": {},
   "outputs": [],
   "source": [
    "import numpy as np\n",
    "from random import SystemRandom\n",
    "from Crypto.Util.number import bytes_to_long, long_to_bytes\n",
    "\n",
    "# dimension\n",
    "n = 64\n",
    "# number of samples in public key\n",
    "m = 512\n",
    "dtype = np.uint16\n",
    "\n",
    "random = SystemRandom()\n",
    "sigma = 2.3\n",
    "def normal(): return round(random.gauss(0, sigma))\n",
    "def binary(): return random.randrange(2)\n",
    "\n",
    "FLAG = b\"crypto{?????????????????????????????????????????}\"\n",
    "\n",
    "def uniform(shape):\n",
    "    buffer = [random.randrange(0, 1 << 16) for i in range(np.prod(shape))]\n",
    "    return np.array(buffer, dtype=dtype).reshape(shape)\n",
    "\n",
    "\n",
    "def sample(shape, dist):\n",
    "    return np.fromfunction(np.vectorize(lambda *_: dist()), shape).astype(dtype)\n",
    "\n",
    "\n",
    "def keygen():\n",
    "    A = uniform((n, m))\n",
    "    s = uniform((n,))\n",
    "    pk = np.vstack((A, s @ A + 2*sample((m,), normal)))\n",
    "    sk = np.append(-s, 1).astype(dtype)\n",
    "    return pk, sk\n",
    "\n",
    "\n",
    "def encrypt(pk, msg):\n",
    "    c = pk @ sample((m,), binary) + np.append(np.zeros(n), msg)\n",
    "    return c.astype(dtype)\n",
    "\n",
    "\n",
    "def decrypt(sk, c):\n",
    "    return sk.dot(c) & 1\n",
    "\n",
    "\n",
    "pk, sk = keygen()\n",
    "\n",
    "msg = np.fromiter([int(i) for i in \"{:0{}b}\".format(\n",
    "    bytes_to_long(FLAG), 8 * len(FLAG))], dtype)\n",
    "ciphertexts = np.vstack([encrypt(pk, b) for b in msg])\n",
    "\n",
    "np.savetxt(\"ciphertexts.txt\", ciphertexts, fmt=\"%d\")\n",
    "np.savetxt(\"public_key.txt\", pk, fmt=\"%d\")\n"
   ]
  },
  {
   "cell_type": "code",
   "execution_count": 1,
   "metadata": {},
   "outputs": [
    {
     "name": "stdout",
     "output_type": "stream",
     "text": [
      "crypto{flavortext-flag-coprime-regev-yadda-yadda}\n"
     ]
    }
   ],
   "source": [
    "from requests import Session\n",
    "import numpy as np\n",
    "\n",
    "def decrypt(sk, c):\n",
    "    return sk.dot(c) & 1\n",
    "\n",
    "def readlines(URL):\n",
    "    return Session().get(URL).text.strip().split(\"\\n\")\n",
    "\n",
    "public_key_URL = \"https://cryptohack.org/static/challenges/public_key_dbd7dcf356ea5c595d390470faad2c29.txt\"\n",
    "ciphertexts_URL = \"https://cryptohack.org/static/challenges/ciphertexts_453500a870e03399fe8e5ed3674b6030.txt\"\n",
    "\n",
    "pk = [[int(x) for x in line.split()] for line in readlines(public_key_URL)]\n",
    "ct = [np.array([int(x) for x in line.split()]) for line in readlines(ciphertexts_URL)]\n",
    "sk = np.array([int(i) for i in Matrix(GF(2), pk).left_kernel()[1]])\n",
    "msg = [str(decrypt(sk, c)) for c in ct]\n",
    "print(bytes.fromhex(hex(int(\"\".join(msg), 2))[2:]).decode())"
   ]
  }
 ],
 "metadata": {
  "kernelspec": {
   "display_name": "SageMath 10.4.beta3",
   "language": "python",
   "name": "sagemath-dev"
  },
  "language_info": {
   "codemirror_mode": {
    "name": "ipython",
    "version": 3
   },
   "file_extension": ".py",
   "mimetype": "text/x-python",
   "name": "python",
   "nbconvert_exporter": "python",
   "pygments_lexer": "ipython3",
   "version": "3.10.12"
  }
 },
 "nbformat": 4,
 "nbformat_minor": 2
}
